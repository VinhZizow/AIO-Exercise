{
  "nbformat": 4,
  "nbformat_minor": 0,
  "metadata": {
    "colab": {
      "provenance": []
    },
    "kernelspec": {
      "name": "python3",
      "display_name": "Python 3"
    },
    "language_info": {
      "name": "python"
    }
  },
  "cells": [
    {
      "cell_type": "code",
      "execution_count": 4,
      "metadata": {
        "id": "aARBK3ycmNF1"
      },
      "outputs": [],
      "source": [
        "# **Getting Max Over Kernel**"
      ]
    },
    {
      "cell_type": "code",
      "source": [
        "# Cho một list các số nguyên num_list và một sliding window có kích thước size k\n",
        "# di chuyển từ trái sang phải. Mỗi lần dịch chuyển 1 vị trí sang phải có thể nhìn thấy đươc\n",
        "# k số trong num_list và tìm số lớn nhất trong k số này sau mỗi lần trượt k phải lớn hơn hoặc bằng 1.\n",
        "# Ví dụ:\n",
        "# Input: num_list = [3, 4, 5, 1, -44 , 5 ,10, 12 ,33, 1] với k=3\n",
        "# Output: [5, 5, 5, 5, 10, 12, 33, 33]\n",
        "\n",
        "# Mục đích sử dụng thuật toán này: áp dụng sliding window để cắt dữ liệu phục vụ ứng dụng ML"
      ],
      "metadata": {
        "id": "x1tbxrDmq9QG"
      },
      "execution_count": 12,
      "outputs": []
    },
    {
      "cell_type": "code",
      "source": [
        "# Cách 1: diễn giải cách lấy k phần tử và so sánh"
      ],
      "metadata": {
        "id": "fQ00yE3Ptwq9"
      },
      "execution_count": null,
      "outputs": []
    },
    {
      "cell_type": "code",
      "source": [
        "num_list = [3 , 1, -2, -1, 5, 4]\n",
        "k = 2\n",
        "temp_list = []\n",
        "\n",
        "for element in num_list:\n",
        "    temp_list.append(element) # append(): add elements\n",
        "\n",
        "    if len(temp_list) == k: # khi kích thước list temp bằng k=2 - in và xóa để cập nhật mới\n",
        "        print(temp_list)\n",
        "        del temp_list[0]"
      ],
      "metadata": {
        "colab": {
          "base_uri": "https://localhost:8080/"
        },
        "id": "YYVaZfkVq6xf",
        "outputId": "c309334e-dad2-4f21-89b3-221329db1edb"
      },
      "execution_count": 6,
      "outputs": [
        {
          "output_type": "stream",
          "name": "stdout",
          "text": [
            "[3, 1]\n",
            "[1, -2]\n",
            "[-2, -1]\n",
            "[-1, 5]\n",
            "[5, 4]\n"
          ]
        }
      ]
    },
    {
      "cell_type": "code",
      "source": [
        "num_list = [3 , 1, -2, -1, 5, 4]\n",
        "k = 2\n",
        "result = []\n",
        "temp_list = []\n",
        "\n",
        "for element in num_list:\n",
        "    temp_list.append(element) # append(): add elements\n",
        "\n",
        "    if len(temp_list) == k: # khi kích thước temp list bằng k=2  - lấy giá trị max và cho vào temp_list\n",
        "        result.append(max(temp_list))\n",
        "        del temp_list[0]\n",
        "\n",
        "print(result)"
      ],
      "metadata": {
        "colab": {
          "base_uri": "https://localhost:8080/"
        },
        "id": "7jXNNnbyr29r",
        "outputId": "592c1776-797d-41d1-9778-fc69d39db962"
      },
      "execution_count": 13,
      "outputs": [
        {
          "output_type": "stream",
          "name": "stdout",
          "text": [
            "[3, 1, -1, 5, 5]\n"
          ]
        }
      ]
    },
    {
      "cell_type": "code",
      "source": [
        "# Cách 2: diễn giải cách lấy k phần tử và so sánh"
      ],
      "metadata": {
        "id": "oCBuFxDgty8C"
      },
      "execution_count": null,
      "outputs": []
    },
    {
      "cell_type": "code",
      "source": [
        "num_list = [3 , 1 , -2, -1, 5, 4]\n",
        "k = 2\n",
        "start_indexs = list(range(0, len(num_list)-k+1))\n",
        "end_indexs = list(range(k, len(num_list)+1))\n",
        "print(start_indexs)\n",
        "print(end_indexs)\n",
        "# mục đích lấy ra từng mảng k phần tử"
      ],
      "metadata": {
        "colab": {
          "base_uri": "https://localhost:8080/"
        },
        "id": "ZtyD_GeGs21Y",
        "outputId": "1858dc2a-b1ff-4074-f639-bb0f580f13fb"
      },
      "execution_count": 10,
      "outputs": [
        {
          "output_type": "stream",
          "name": "stdout",
          "text": [
            "[0, 1, 2, 3, 4]\n",
            "[2, 3, 4, 5, 6]\n"
          ]
        }
      ]
    },
    {
      "cell_type": "code",
      "source": [
        "num_list = [3 , 1 , -2, -1, 5, 4]\n",
        "k = 2\n",
        "start_indexs = list(range(0, len(num_list)-k+1))\n",
        "end_indexs = list(range(k, len(num_list)+1))\n",
        "\n",
        "for start_index, end_index in zip(start_indexs, end_indexs):\n",
        "    sub_list = num_list[start_index: end_index]\n",
        "    print(sub_list)\n",
        "# Để ý: kết quả ra như block code đầu tiên"
      ],
      "metadata": {
        "colab": {
          "base_uri": "https://localhost:8080/"
        },
        "id": "gESD4QVCtYzu",
        "outputId": "17563511-acc3-4261-e15a-3c449100a68e"
      },
      "execution_count": 11,
      "outputs": [
        {
          "output_type": "stream",
          "name": "stdout",
          "text": [
            "[3, 1]\n",
            "[1, -2]\n",
            "[-2, -1]\n",
            "[-1, 5]\n",
            "[5, 4]\n"
          ]
        }
      ]
    },
    {
      "cell_type": "code",
      "source": [
        "num_list = [3 , 1 , -2, -1, 5, 4]\n",
        "k = 2\n",
        "start_indexs = list(range(0, len(num_list)-k+1))\n",
        "end_indexs = list(range(k, len(num_list)+1))\n",
        "\n",
        "result = []\n",
        "for start_index, end_index in zip(start_indexs, end_indexs):\n",
        "    sub_list = num_list[start_index: end_index]\n",
        "    result.append(max(sub_list))\n",
        "\n",
        "print(result)"
      ],
      "metadata": {
        "colab": {
          "base_uri": "https://localhost:8080/"
        },
        "id": "qeid_Nu2t2Jl",
        "outputId": "2a0dfcbc-df33-4a55-c029-6859b5cabf32"
      },
      "execution_count": 14,
      "outputs": [
        {
          "output_type": "stream",
          "name": "stdout",
          "text": [
            "[3, 1, -1, 5, 5]\n"
          ]
        }
      ]
    },
    {
      "cell_type": "code",
      "source": [
        "# CHƯƠNG TRÌNH CHÍNH THỨC"
      ],
      "metadata": {
        "id": "DdJxLfnJt73L"
      },
      "execution_count": 15,
      "outputs": []
    },
    {
      "cell_type": "code",
      "source": [
        "def max_kernel(num_list, k):\n",
        "    start_indexs = list(range(0, len(num_list)-k+1))\n",
        "    end_indexs = list(range(k, len(num_list)+1))\n",
        "\n",
        "    result = []\n",
        "\n",
        "    for start_index, end_index in zip(start_indexs, end_indexs):\n",
        "        sub_list = num_list[start_index: end_index]\n",
        "        result.append(max(sub_list))\n",
        "\n",
        "    return result\n",
        "\n",
        "assert max_kernel([3 , 4 , 5 , 1 , -44], 3) == [5, 5, 5]\n",
        "num_list = [3, 4, 5, 1, -44 , 5 ,10, 12 ,33, 1]\n",
        "k = 3\n",
        "print(max_kernel(num_list, k))"
      ],
      "metadata": {
        "colab": {
          "base_uri": "https://localhost:8080/"
        },
        "id": "EDgUn7XXt9ch",
        "outputId": "c33cb40b-134c-486a-90ed-82af3d4743d6"
      },
      "execution_count": 16,
      "outputs": [
        {
          "output_type": "stream",
          "name": "stdout",
          "text": [
            "[5, 5, 5, 5, 10, 12, 33, 33]\n"
          ]
        }
      ]
    }
  ]
}