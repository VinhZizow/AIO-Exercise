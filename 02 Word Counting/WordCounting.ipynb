{
  "cells": [
    {
      "cell_type": "code",
      "execution_count": null,
      "metadata": {
        "id": "2GwdLBR1xvNU"
      },
      "outputs": [],
      "source": [
        "# Word Counting"
      ]
    },
    {
      "cell_type": "code",
      "execution_count": 5,
      "metadata": {
        "colab": {
          "base_uri": "https://localhost:8080/"
        },
        "id": "g_W52PqWx6nw",
        "outputId": "58c301b8-4c4c-461f-ec3b-e8317bc8e2a7"
      },
      "outputs": [
        {
          "name": "stdout",
          "output_type": "stream",
          "text": [
            "Downloading...\n",
            "From: https://drive.google.com/uc?id=1IBScGdW2xlNsc9v5zSAya548kNgiOrko\n",
            "To: /content/P1_data.txt\n",
            "\r  0% 0.00/747 [00:00<?, ?B/s]\r100% 747/747 [00:00<00:00, 2.49MB/s]\n"
          ]
        }
      ],
      "source": [
        "!gdown https://drive.google.com/uc?id=1IBScGdW2xlNsc9v5zSAya548kNgiOrko"
      ]
    },
    {
      "cell_type": "code",
      "execution_count": 15,
      "metadata": {
        "colab": {
          "base_uri": "https://localhost:8080/"
        },
        "id": "2tTsmzjYyFB3",
        "outputId": "c78fc78f-e034-4506-c8a2-0b8974c04dc6"
      },
      "outputs": [
        {
          "data": {
            "text/plain": [
              "str"
            ]
          },
          "execution_count": 15,
          "metadata": {},
          "output_type": "execute_result"
        }
      ],
      "source": [
        "# đọc file\n",
        "with open('/content/P1_data.txt', 'r') as f:\n",
        "    sentences = f.readlines() # đọc từng dòng\n",
        "type(sentences)\n",
        "\n",
        "with open('/content/P1_data.txt', 'r') as f:\n",
        "    document = f.read() # đọc liên tục\n",
        "type(document)"
      ]
    },
    {
      "cell_type": "code",
      "execution_count": 9,
      "metadata": {
        "colab": {
          "base_uri": "https://localhost:8080/"
        },
        "id": "diHqqA4FyKGb",
        "outputId": "20448438-25ba-4283-d28d-ab24a324ac1a"
      },
      "outputs": [
        {
          "data": {
            "text/plain": [
              "['He who conquers himself is the mightiest warrior\\n',\n",
              " 'Try not to become a man of success but rather become a man of value\\n',\n",
              " 'One man with courage makes a majority\\n',\n",
              " 'One secret of success in life is for a man to be ready for his opportunity when it comes\\n',\n",
              " 'The successful man will profit from his mistakes and try again in a different way\\n',\n",
              " 'A successful man is one who can lay a firm foundation with the bricks others have thrown at him\\n',\n",
              " 'Success usually comes to those who are too busy looking for it\\n',\n",
              " 'We cannot solve problems with the kind of thinking we employed when we came up with them\\n',\n",
              " 'Just one small positive thought in the morning can change your whole day\\n',\n",
              " 'You can get everything in life you want if you will just help enough other people get what they want']"
            ]
          },
          "execution_count": 9,
          "metadata": {},
          "output_type": "execute_result"
        }
      ],
      "source": [
        "sentences"
      ]
    },
    {
      "cell_type": "code",
      "execution_count": 16,
      "metadata": {
        "colab": {
          "base_uri": "https://localhost:8080/",
          "height": 122
        },
        "id": "5Cp9SyV0zKCx",
        "outputId": "e01d3320-b95d-47fd-8a6e-3ad37676ce90"
      },
      "outputs": [
        {
          "data": {
            "application/vnd.google.colaboratory.intrinsic+json": {
              "type": "string"
            },
            "text/plain": [
              "'He who conquers himself is the mightiest warrior\\nTry not to become a man of success but rather become a man of value\\nOne man with courage makes a majority\\nOne secret of success in life is for a man to be ready for his opportunity when it comes\\nThe successful man will profit from his mistakes and try again in a different way\\nA successful man is one who can lay a firm foundation with the bricks others have thrown at him\\nSuccess usually comes to those who are too busy looking for it\\nWe cannot solve problems with the kind of thinking we employed when we came up with them\\nJust one small positive thought in the morning can change your whole day\\nYou can get everything in life you want if you will just help enough other people get what they want'"
            ]
          },
          "execution_count": 16,
          "metadata": {},
          "output_type": "execute_result"
        }
      ],
      "source": [
        "document"
      ]
    },
    {
      "cell_type": "code",
      "execution_count": 13,
      "metadata": {
        "colab": {
          "base_uri": "https://localhost:8080/"
        },
        "id": "CUJhulVyyXxA",
        "outputId": "e6dad847-def3-4921-8f03-a5f5f55cb361"
      },
      "outputs": [
        {
          "data": {
            "text/plain": [
              "['i', 'love', 'ai', 'ai', 'is', 'not', 'easy']"
            ]
          },
          "execution_count": 13,
          "metadata": {},
          "output_type": "execute_result"
        }
      ],
      "source": [
        "# tiền xử lý văn bản: lowercase tất cả các chữ\n",
        "def preprocess_text(sentence):\n",
        "    sentence = sentence.lower()\n",
        "    sentence = sentence.replace('.', '').replace(',', '')\n",
        "    words = sentence.split()\n",
        "    return words\n",
        "# ví dụ với example sentence\n",
        "e_sentence = 'I love AI. AI is not easy'\n",
        "preprocess_text(e_sentence)"
      ]
    },
    {
      "cell_type": "code",
      "execution_count": 17,
      "metadata": {
        "colab": {
          "base_uri": "https://localhost:8080/"
        },
        "id": "pLniaJ-6yxoX",
        "outputId": "4e853909-1abf-4f74-ead1-125baecbee50"
      },
      "outputs": [
        {
          "name": "stdout",
          "output_type": "stream",
          "text": [
            "{'he': 1, 'who': 3, 'conquers': 1, 'himself': 1, 'is': 3, 'the': 5, 'mightiest': 1, 'warrior': 1, 'try': 2, 'not': 1, 'to': 3, 'become': 2, 'a': 7, 'man': 6, 'of': 4, 'success': 3, 'but': 1, 'rather': 1, 'value': 1, 'one': 4, 'with': 4, 'courage': 1, 'makes': 1, 'majority': 1, 'secret': 1, 'in': 4, 'life': 2, 'for': 3, 'be': 1, 'ready': 1, 'his': 2, 'opportunity': 1, 'when': 2, 'it': 2, 'comes': 2, 'successful': 2, 'will': 2, 'profit': 1, 'from': 1, 'mistakes': 1, 'and': 1, 'again': 1, 'different': 1, 'way': 1, 'can': 3, 'lay': 1, 'firm': 1, 'foundation': 1, 'bricks': 1, 'others': 1, 'have': 1, 'thrown': 1, 'at': 1, 'him': 1, 'usually': 1, 'those': 1, 'are': 1, 'too': 1, 'busy': 1, 'looking': 1, 'we': 3, 'cannot': 1, 'solve': 1, 'problems': 1, 'kind': 1, 'thinking': 1, 'employed': 1, 'came': 1, 'up': 1, 'them': 1, 'just': 2, 'small': 1, 'positive': 1, 'thought': 1, 'morning': 1, 'change': 1, 'your': 1, 'whole': 1, 'day': 1, 'you': 3, 'get': 2, 'everything': 1, 'want': 2, 'if': 1, 'help': 1, 'enough': 1, 'other': 1, 'people': 1, 'what': 1, 'they': 1}\n"
          ]
        }
      ],
      "source": [
        "words = preprocess_text(document)\n",
        "\n",
        "counter = {}\n",
        "for word in words:\n",
        "    if word in counter:\n",
        "        counter[word] += 1 # tự động gắn word vô dic counter và tăng số đếm\n",
        "    else:\n",
        "        counter[word] = 1\n",
        "\n",
        "print(counter)"
      ]
    },
    {
      "cell_type": "code",
      "execution_count": 18,
      "metadata": {
        "colab": {
          "base_uri": "https://localhost:8080/"
        },
        "id": "HIj4uGAnzgzN",
        "outputId": "b4b997e6-2186-48c6-bde9-7705523b3a4f"
      },
      "outputs": [
        {
          "name": "stdout",
          "output_type": "stream",
          "text": [
            "{'he': 1, 'who': 3, 'conquers': 1, 'himself': 1, 'is': 3, 'the': 5, 'mightiest': 1, 'warrior': 1, 'try': 2, 'not': 1, 'to': 3, 'become': 2, 'a': 7, 'man': 6, 'of': 4, 'success': 3, 'but': 1, 'rather': 1, 'value': 1, 'one': 4, 'with': 4, 'courage': 1, 'makes': 1, 'majority': 1, 'secret': 1, 'in': 4, 'life': 2, 'for': 3, 'be': 1, 'ready': 1, 'his': 2, 'opportunity': 1, 'when': 2, 'it': 2, 'comes': 2, 'successful': 2, 'will': 2, 'profit': 1, 'from': 1, 'mistakes': 1, 'and': 1, 'again': 1, 'different': 1, 'way': 1, 'can': 3, 'lay': 1, 'firm': 1, 'foundation': 1, 'bricks': 1, 'others': 1, 'have': 1, 'thrown': 1, 'at': 1, 'him': 1, 'usually': 1, 'those': 1, 'are': 1, 'too': 1, 'busy': 1, 'looking': 1, 'we': 3, 'cannot': 1, 'solve': 1, 'problems': 1, 'kind': 1, 'thinking': 1, 'employed': 1, 'came': 1, 'up': 1, 'them': 1, 'just': 2, 'small': 1, 'positive': 1, 'thought': 1, 'morning': 1, 'change': 1, 'your': 1, 'whole': 1, 'day': 1, 'you': 3, 'get': 2, 'everything': 1, 'want': 2, 'if': 1, 'help': 1, 'enough': 1, 'other': 1, 'people': 1, 'what': 1, 'they': 1}\n"
          ]
        }
      ],
      "source": [
        "counter = {}\n",
        "\n",
        "for sentence in sentences:\n",
        "    words = preprocess_text(sentence)\n",
        "    for word in words:\n",
        "        if word in counter:\n",
        "            counter[word] += 1 # tự động gắn word vô dic counter và tăng số đếm\n",
        "        else:\n",
        "            counter[word] = 1\n",
        "\n",
        "print(counter)"
      ]
    },
    {
      "cell_type": "code",
      "execution_count": null,
      "metadata": {
        "id": "5uWfxPleync6"
      },
      "outputs": [],
      "source": []
    }
  ],
  "metadata": {
    "colab": {
      "provenance": []
    },
    "kernelspec": {
      "display_name": "Python 3",
      "name": "python3"
    },
    "language_info": {
      "name": "python"
    }
  },
  "nbformat": 4,
  "nbformat_minor": 0
}
